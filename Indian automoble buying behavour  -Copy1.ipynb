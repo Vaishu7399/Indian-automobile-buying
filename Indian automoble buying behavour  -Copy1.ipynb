{
 "cells": [
  {
   "cell_type": "code",
   "execution_count": 5,
   "id": "70af8722",
   "metadata": {},
   "outputs": [],
   "source": [
    "import os\n",
    "import warnings\n",
    "import numpy as np\n",
    "import pandas as pd\n",
    "import seaborn as sns\n",
    "import plotly.express as px\n",
    "import matplotlib.pyplot as plt\n",
    "from sklearn.cluster import KMeans\n",
    "from sklearn.decomposition import PCA\n",
    "from sklearn.metrics import silhouette_score\n",
    "from IPython.display import Markdown, display\n",
    "from sklearn.preprocessing import MinMaxScaler, StandardScaler, LabelEncoder\n",
    "\n",
    "warnings.filterwarnings(\"ignore\")"
   ]
  },
  {
   "cell_type": "code",
   "execution_count": 11,
   "id": "2fc088d8",
   "metadata": {},
   "outputs": [
    {
     "data": {
      "text/html": [
       "<div>\n",
       "<style scoped>\n",
       "    .dataframe tbody tr th:only-of-type {\n",
       "        vertical-align: middle;\n",
       "    }\n",
       "\n",
       "    .dataframe tbody tr th {\n",
       "        vertical-align: top;\n",
       "    }\n",
       "\n",
       "    .dataframe thead th {\n",
       "        text-align: right;\n",
       "    }\n",
       "</style>\n",
       "<table border=\"1\" class=\"dataframe\">\n",
       "  <thead>\n",
       "    <tr style=\"text-align: right;\">\n",
       "      <th></th>\n",
       "      <th>Age</th>\n",
       "      <th>Profession</th>\n",
       "      <th>Marrital Status</th>\n",
       "      <th>Education</th>\n",
       "      <th>No of Dependents</th>\n",
       "      <th>Personal loan</th>\n",
       "      <th>House Loan</th>\n",
       "      <th>Wife Working</th>\n",
       "      <th>Salary</th>\n",
       "      <th>Wife Salary</th>\n",
       "      <th>Total Salary</th>\n",
       "      <th>Make</th>\n",
       "      <th>Price</th>\n",
       "    </tr>\n",
       "  </thead>\n",
       "  <tbody>\n",
       "    <tr>\n",
       "      <th>0</th>\n",
       "      <td>27</td>\n",
       "      <td>Salaried</td>\n",
       "      <td>Single</td>\n",
       "      <td>Post Graduate</td>\n",
       "      <td>0</td>\n",
       "      <td>Yes</td>\n",
       "      <td>No</td>\n",
       "      <td>No</td>\n",
       "      <td>800000</td>\n",
       "      <td>0</td>\n",
       "      <td>800000</td>\n",
       "      <td>i20</td>\n",
       "      <td>800000</td>\n",
       "    </tr>\n",
       "    <tr>\n",
       "      <th>1</th>\n",
       "      <td>35</td>\n",
       "      <td>Salaried</td>\n",
       "      <td>Married</td>\n",
       "      <td>Post Graduate</td>\n",
       "      <td>2</td>\n",
       "      <td>Yes</td>\n",
       "      <td>Yes</td>\n",
       "      <td>Yes</td>\n",
       "      <td>1400000</td>\n",
       "      <td>600000</td>\n",
       "      <td>2000000</td>\n",
       "      <td>Ciaz</td>\n",
       "      <td>1000000</td>\n",
       "    </tr>\n",
       "    <tr>\n",
       "      <th>2</th>\n",
       "      <td>45</td>\n",
       "      <td>Business</td>\n",
       "      <td>Married</td>\n",
       "      <td>Graduate</td>\n",
       "      <td>4</td>\n",
       "      <td>Yes</td>\n",
       "      <td>Yes</td>\n",
       "      <td>No</td>\n",
       "      <td>1800000</td>\n",
       "      <td>0</td>\n",
       "      <td>1800000</td>\n",
       "      <td>Duster</td>\n",
       "      <td>1200000</td>\n",
       "    </tr>\n",
       "    <tr>\n",
       "      <th>3</th>\n",
       "      <td>41</td>\n",
       "      <td>Business</td>\n",
       "      <td>Married</td>\n",
       "      <td>Post Graduate</td>\n",
       "      <td>3</td>\n",
       "      <td>No</td>\n",
       "      <td>No</td>\n",
       "      <td>Yes</td>\n",
       "      <td>1600000</td>\n",
       "      <td>600000</td>\n",
       "      <td>2200000</td>\n",
       "      <td>City</td>\n",
       "      <td>1200000</td>\n",
       "    </tr>\n",
       "    <tr>\n",
       "      <th>4</th>\n",
       "      <td>31</td>\n",
       "      <td>Salaried</td>\n",
       "      <td>Married</td>\n",
       "      <td>Post Graduate</td>\n",
       "      <td>2</td>\n",
       "      <td>Yes</td>\n",
       "      <td>No</td>\n",
       "      <td>Yes</td>\n",
       "      <td>1800000</td>\n",
       "      <td>800000</td>\n",
       "      <td>2600000</td>\n",
       "      <td>SUV</td>\n",
       "      <td>1600000</td>\n",
       "    </tr>\n",
       "  </tbody>\n",
       "</table>\n",
       "</div>"
      ],
      "text/plain": [
       "   Age Profession Marrital Status      Education  No of Dependents  \\\n",
       "0   27   Salaried          Single  Post Graduate                 0   \n",
       "1   35   Salaried         Married  Post Graduate                 2   \n",
       "2   45   Business         Married       Graduate                 4   \n",
       "3   41   Business         Married  Post Graduate                 3   \n",
       "4   31   Salaried         Married  Post Graduate                 2   \n",
       "\n",
       "  Personal loan House Loan Wife Working   Salary  Wife Salary  Total Salary  \\\n",
       "0           Yes         No           No   800000            0        800000   \n",
       "1           Yes        Yes          Yes  1400000       600000       2000000   \n",
       "2           Yes        Yes           No  1800000            0       1800000   \n",
       "3            No         No          Yes  1600000       600000       2200000   \n",
       "4           Yes         No          Yes  1800000       800000       2600000   \n",
       "\n",
       "     Make    Price  \n",
       "0     i20   800000  \n",
       "1    Ciaz  1000000  \n",
       "2  Duster  1200000  \n",
       "3    City  1200000  \n",
       "4     SUV  1600000  "
      ]
     },
     "execution_count": 11,
     "metadata": {},
     "output_type": "execute_result"
    }
   ],
   "source": [
    "df = pd.read_csv('Indian automoble buying behavour study 1.0.csv')\n",
    "df.head()"
   ]
  },
  {
   "cell_type": "code",
   "execution_count": 12,
   "id": "235faf61",
   "metadata": {},
   "outputs": [
    {
     "name": "stdout",
     "output_type": "stream",
     "text": [
      "Shape - (99, 13)\n"
     ]
    }
   ],
   "source": [
    "# Shape\n",
    "print(\"Shape -\",df.shape)"
   ]
  },
  {
   "cell_type": "code",
   "execution_count": 13,
   "id": "73a57b7e",
   "metadata": {},
   "outputs": [
    {
     "name": "stdout",
     "output_type": "stream",
     "text": [
      "<class 'pandas.core.frame.DataFrame'>\n",
      "RangeIndex: 99 entries, 0 to 98\n",
      "Data columns (total 13 columns):\n",
      " #   Column            Non-Null Count  Dtype \n",
      "---  ------            --------------  ----- \n",
      " 0   Age               99 non-null     int64 \n",
      " 1   Profession        99 non-null     object\n",
      " 2   Marrital Status   99 non-null     object\n",
      " 3   Education         99 non-null     object\n",
      " 4   No of Dependents  99 non-null     int64 \n",
      " 5   Personal loan     99 non-null     object\n",
      " 6   House Loan        99 non-null     object\n",
      " 7   Wife Working      99 non-null     object\n",
      " 8   Salary            99 non-null     int64 \n",
      " 9   Wife Salary       99 non-null     int64 \n",
      " 10  Total Salary      99 non-null     int64 \n",
      " 11  Make              99 non-null     object\n",
      " 12  Price             99 non-null     int64 \n",
      "dtypes: int64(6), object(7)\n",
      "memory usage: 10.2+ KB\n"
     ]
    }
   ],
   "source": [
    "df.info()"
   ]
  },
  {
   "cell_type": "code",
   "execution_count": 14,
   "id": "d5446355",
   "metadata": {},
   "outputs": [
    {
     "data": {
      "text/html": [
       "<div>\n",
       "<style scoped>\n",
       "    .dataframe tbody tr th:only-of-type {\n",
       "        vertical-align: middle;\n",
       "    }\n",
       "\n",
       "    .dataframe tbody tr th {\n",
       "        vertical-align: top;\n",
       "    }\n",
       "\n",
       "    .dataframe thead th {\n",
       "        text-align: right;\n",
       "    }\n",
       "</style>\n",
       "<table border=\"1\" class=\"dataframe\">\n",
       "  <thead>\n",
       "    <tr style=\"text-align: right;\">\n",
       "      <th></th>\n",
       "      <th>Age</th>\n",
       "      <th>No of Dependents</th>\n",
       "      <th>Salary</th>\n",
       "      <th>Wife Salary</th>\n",
       "      <th>Total Salary</th>\n",
       "      <th>Price</th>\n",
       "    </tr>\n",
       "  </thead>\n",
       "  <tbody>\n",
       "    <tr>\n",
       "      <th>count</th>\n",
       "      <td>99.000000</td>\n",
       "      <td>99.000000</td>\n",
       "      <td>9.900000e+01</td>\n",
       "      <td>9.900000e+01</td>\n",
       "      <td>9.900000e+01</td>\n",
       "      <td>9.900000e+01</td>\n",
       "    </tr>\n",
       "    <tr>\n",
       "      <th>mean</th>\n",
       "      <td>36.313131</td>\n",
       "      <td>2.181818</td>\n",
       "      <td>1.736364e+06</td>\n",
       "      <td>5.343434e+05</td>\n",
       "      <td>2.270707e+06</td>\n",
       "      <td>1.194040e+06</td>\n",
       "    </tr>\n",
       "    <tr>\n",
       "      <th>std</th>\n",
       "      <td>6.246054</td>\n",
       "      <td>1.335265</td>\n",
       "      <td>6.736217e+05</td>\n",
       "      <td>6.054450e+05</td>\n",
       "      <td>1.050777e+06</td>\n",
       "      <td>4.376955e+05</td>\n",
       "    </tr>\n",
       "    <tr>\n",
       "      <th>min</th>\n",
       "      <td>26.000000</td>\n",
       "      <td>0.000000</td>\n",
       "      <td>2.000000e+05</td>\n",
       "      <td>0.000000e+00</td>\n",
       "      <td>2.000000e+05</td>\n",
       "      <td>1.100000e+05</td>\n",
       "    </tr>\n",
       "    <tr>\n",
       "      <th>25%</th>\n",
       "      <td>31.000000</td>\n",
       "      <td>2.000000</td>\n",
       "      <td>1.300000e+06</td>\n",
       "      <td>0.000000e+00</td>\n",
       "      <td>1.550000e+06</td>\n",
       "      <td>8.000000e+05</td>\n",
       "    </tr>\n",
       "    <tr>\n",
       "      <th>50%</th>\n",
       "      <td>36.000000</td>\n",
       "      <td>2.000000</td>\n",
       "      <td>1.600000e+06</td>\n",
       "      <td>5.000000e+05</td>\n",
       "      <td>2.100000e+06</td>\n",
       "      <td>1.200000e+06</td>\n",
       "    </tr>\n",
       "    <tr>\n",
       "      <th>75%</th>\n",
       "      <td>41.000000</td>\n",
       "      <td>3.000000</td>\n",
       "      <td>2.200000e+06</td>\n",
       "      <td>9.000000e+05</td>\n",
       "      <td>2.700000e+06</td>\n",
       "      <td>1.500000e+06</td>\n",
       "    </tr>\n",
       "    <tr>\n",
       "      <th>max</th>\n",
       "      <td>51.000000</td>\n",
       "      <td>4.000000</td>\n",
       "      <td>3.800000e+06</td>\n",
       "      <td>2.100000e+06</td>\n",
       "      <td>5.200000e+06</td>\n",
       "      <td>3.000000e+06</td>\n",
       "    </tr>\n",
       "  </tbody>\n",
       "</table>\n",
       "</div>"
      ],
      "text/plain": [
       "             Age  No of Dependents        Salary   Wife Salary  Total Salary  \\\n",
       "count  99.000000         99.000000  9.900000e+01  9.900000e+01  9.900000e+01   \n",
       "mean   36.313131          2.181818  1.736364e+06  5.343434e+05  2.270707e+06   \n",
       "std     6.246054          1.335265  6.736217e+05  6.054450e+05  1.050777e+06   \n",
       "min    26.000000          0.000000  2.000000e+05  0.000000e+00  2.000000e+05   \n",
       "25%    31.000000          2.000000  1.300000e+06  0.000000e+00  1.550000e+06   \n",
       "50%    36.000000          2.000000  1.600000e+06  5.000000e+05  2.100000e+06   \n",
       "75%    41.000000          3.000000  2.200000e+06  9.000000e+05  2.700000e+06   \n",
       "max    51.000000          4.000000  3.800000e+06  2.100000e+06  5.200000e+06   \n",
       "\n",
       "              Price  \n",
       "count  9.900000e+01  \n",
       "mean   1.194040e+06  \n",
       "std    4.376955e+05  \n",
       "min    1.100000e+05  \n",
       "25%    8.000000e+05  \n",
       "50%    1.200000e+06  \n",
       "75%    1.500000e+06  \n",
       "max    3.000000e+06  "
      ]
     },
     "execution_count": 14,
     "metadata": {},
     "output_type": "execute_result"
    }
   ],
   "source": [
    "df.describe()"
   ]
  },
  {
   "cell_type": "markdown",
   "id": "6869d9b8",
   "metadata": {},
   "source": [
    "Data Cleaning"
   ]
  },
  {
   "cell_type": "code",
   "execution_count": 15,
   "id": "3c6f9fb7",
   "metadata": {},
   "outputs": [
    {
     "data": {
      "text/plain": [
       "Age                 0\n",
       "Profession          0\n",
       "Marrital Status     0\n",
       "Education           0\n",
       "No of Dependents    0\n",
       "Personal loan       0\n",
       "House Loan          0\n",
       "Wife Working        0\n",
       "Salary              0\n",
       "Wife Salary         0\n",
       "Total Salary        0\n",
       "Make                0\n",
       "Price               0\n",
       "dtype: int64"
      ]
     },
     "execution_count": 15,
     "metadata": {},
     "output_type": "execute_result"
    }
   ],
   "source": [
    "df.isnull().sum()"
   ]
  },
  {
   "cell_type": "code",
   "execution_count": 16,
   "id": "2ee45fe2",
   "metadata": {},
   "outputs": [
    {
     "data": {
      "text/plain": [
       "0"
      ]
     },
     "execution_count": 16,
     "metadata": {},
     "output_type": "execute_result"
    }
   ],
   "source": [
    "df.duplicated().sum()"
   ]
  },
  {
   "cell_type": "code",
   "execution_count": 17,
   "id": "e24cace6",
   "metadata": {},
   "outputs": [
    {
     "name": "stdout",
     "output_type": "stream",
     "text": [
      "Yes    52\n",
      "No     46\n",
      "m       1\n",
      "Name: Wife Working, dtype: int64\n",
      "\n",
      "Here we can see, that there is unknown 'm' value, so we are converting it into 'Yes'\n"
     ]
    }
   ],
   "source": [
    "# Cleaning Wife Working Feature \n",
    "print(df['Wife Working'].value_counts())\n",
    "print(\"\\nHere we can see, that there is unknown 'm' value, so we are converting it into 'Yes'\")\n",
    "\n",
    "# modifying wife working feature\n",
    "df['Wife Working'] = df['Wife Working'].map({\"Yes\":\"Yes\", 'm':\"Yes\", \"No\":\"No\"})"
   ]
  },
  {
   "cell_type": "markdown",
   "id": "043d5d4f",
   "metadata": {},
   "source": [
    "Exploratory Data Analysis"
   ]
  },
  {
   "cell_type": "code",
   "execution_count": 18,
   "id": "11ffaebe",
   "metadata": {
    "scrolled": false
   },
   "outputs": [
    {
     "data": {
      "image/png": "[encoded data removed]",
      "text/plain": [
       "<Figure size 1500x800 with 6 Axes>"
      ]
     },
     "metadata": {},
     "output_type": "display_data"
    }
   ],
   "source": [
    "# Analyzing Numerical Features\n",
    "num_features = [\"Age\", \"Salary\", \"Wife Salary\", \"Total Salary\", \"Price\"]\n",
    "\n",
    "fig, axs = plt.subplots(2, 3, figsize=(15, 8))\n",
    "for i, ax in enumerate(axs.flatten()):\n",
    "    sns.histplot(data=df, x=num_features[i], ax=ax,  color='DarkGreen')\n",
    "    if i==4:\n",
    "        break\n",
    "\n",
    "plt.suptitle(\"Distribution of Numerical Features\", y=0.96, size='16');\n",
    "plt.tight_layout()\n",
    "plt.show()"
   ]
  },
  {
   "cell_type": "code",
   "execution_count": 27,
   "id": "b9ddbb5f",
   "metadata": {},
   "outputs": [
    {
     "data": {
      "text/markdown": [
       "\n",
       "`Key Findings`\n",
       "* Average ***Age*** of car buyer is around 36 and **92%** of customer falls between the age of  25 - 45. \n",
       "* ***Salaries*** are predominantly found between 1 million and 2.5 million, with **72%** of customers falling within this range.\n",
       "* **79%** of Customer buys, car with ***Price*** range of 7 Lakhs to 16 lakhs.\n",
       "* A majority of customers have working spouses which is around **52%.**\n",
       "* The household income for **73%** of customers falls between 1 and 3 million.\n"
      ],
      "text/plain": [
       "<IPython.core.display.Markdown object>"
      ]
     },
     "metadata": {},
     "output_type": "display_data"
    }
   ],
   "source": [
    "# percent of customer lies between a particular range\n",
    "salary_percent = round(len(df.where((df['Salary']>1000000) & (df['Salary']<=2500000)).dropna())/len(df)*100)\n",
    "age_percent = round(len(df.where((df['Age']>25) & (df['Age']<=45)).dropna())/len(df)*100)\n",
    "price_percent = round(len(df.where((df['Price']>700000) & (df['Price']<=1600000)).dropna())/len(df)*100)\n",
    "wife_salary_percent = round(len(df[df['Wife Salary']!=0])/len(df)*100)\n",
    "total_salary_percent = round(len(df.where((df['Total Salary']>1000000) & (df['Total Salary']<=3000000)).dropna())/len(df)*100) \n",
    "\n",
    "# Major Findings\n",
    "display(Markdown(f\"\"\"\n",
    "`Key Findings`\n",
    "* Average ***Age*** of car buyer is around 36 and **{age_percent}%** of customer falls between the age of  25 - 45. \n",
    "* ***Salaries*** are predominantly found between 1 million and 2.5 million, with **{salary_percent}%** of customers falling within this range.\n",
    "* **{price_percent}%** of Customer buys, car with ***Price*** range of 7 Lakhs to 16 lakhs.\n",
    "* A majority of customers have working spouses which is around **{wife_salary_percent}%.**\n",
    "* The household income for **{total_salary_percent}%** of customers falls between 1 and 3 million.\n",
    "\"\"\"))"
   ]
  },
  {
   "cell_type": "code",
   "execution_count": 28,
   "id": "19e7299d",
   "metadata": {
    "scrolled": true
   },
   "outputs": [
    {
     "data": {
      "image/png": "[encoded data removed]",
      "text/plain": [
       "<Figure size 1500x1500 with 8 Axes>"
      ]
     },
     "metadata": {},
     "output_type": "display_data"
    }
   ],
   "source": [
    "# Analyzing Categorical Features\n",
    "cat_features = ['No of Dependents', 'Profession', 'Marrital Status', 'Education', \n",
    "                'Personal loan', 'House Loan', 'Wife Working', 'Make']\n",
    "\n",
    "fig, axs = plt.subplots(4, 2, figsize=(15, 15))\n",
    "for i, ax in enumerate(axs.flatten()):\n",
    "    sns.countplot(data=df, x=cat_features[i], ax=ax, palette='viridis')\n",
    "plt.suptitle(\"Distribution of Categorical Features\", y=0.95, size='16')\n",
    "\n",
    "plt.show()\n"
   ]
  },
  {
   "cell_type": "markdown",
   "id": "edc5f4c2",
   "metadata": {},
   "source": [
    "Data Preprocessing"
   ]
  },
  {
   "cell_type": "code",
   "execution_count": 21,
   "id": "a8bcfc0e",
   "metadata": {},
   "outputs": [
    {
     "data": {
      "text/html": [
       "<div>\n",
       "<style scoped>\n",
       "    .dataframe tbody tr th:only-of-type {\n",
       "        vertical-align: middle;\n",
       "    }\n",
       "\n",
       "    .dataframe tbody tr th {\n",
       "        vertical-align: top;\n",
       "    }\n",
       "\n",
       "    .dataframe thead th {\n",
       "        text-align: right;\n",
       "    }\n",
       "</style>\n",
       "<table border=\"1\" class=\"dataframe\">\n",
       "  <thead>\n",
       "    <tr style=\"text-align: right;\">\n",
       "      <th></th>\n",
       "      <th>Age</th>\n",
       "      <th>Profession</th>\n",
       "      <th>Marrital Status</th>\n",
       "      <th>Education</th>\n",
       "      <th>No of Dependents</th>\n",
       "      <th>Personal loan</th>\n",
       "      <th>House Loan</th>\n",
       "      <th>Wife Working</th>\n",
       "      <th>Salary</th>\n",
       "      <th>Wife Salary</th>\n",
       "      <th>Total Salary</th>\n",
       "      <th>Make</th>\n",
       "      <th>Price</th>\n",
       "    </tr>\n",
       "  </thead>\n",
       "  <tbody>\n",
       "    <tr>\n",
       "      <th>0</th>\n",
       "      <td>27</td>\n",
       "      <td>1</td>\n",
       "      <td>1</td>\n",
       "      <td>1</td>\n",
       "      <td>0</td>\n",
       "      <td>1</td>\n",
       "      <td>0</td>\n",
       "      <td>0</td>\n",
       "      <td>800000</td>\n",
       "      <td>0</td>\n",
       "      <td>800000</td>\n",
       "      <td>8</td>\n",
       "      <td>800000</td>\n",
       "    </tr>\n",
       "    <tr>\n",
       "      <th>1</th>\n",
       "      <td>35</td>\n",
       "      <td>1</td>\n",
       "      <td>0</td>\n",
       "      <td>1</td>\n",
       "      <td>2</td>\n",
       "      <td>1</td>\n",
       "      <td>1</td>\n",
       "      <td>1</td>\n",
       "      <td>1400000</td>\n",
       "      <td>600000</td>\n",
       "      <td>2000000</td>\n",
       "      <td>1</td>\n",
       "      <td>1000000</td>\n",
       "    </tr>\n",
       "    <tr>\n",
       "      <th>2</th>\n",
       "      <td>45</td>\n",
       "      <td>0</td>\n",
       "      <td>0</td>\n",
       "      <td>0</td>\n",
       "      <td>4</td>\n",
       "      <td>1</td>\n",
       "      <td>1</td>\n",
       "      <td>0</td>\n",
       "      <td>1800000</td>\n",
       "      <td>0</td>\n",
       "      <td>1800000</td>\n",
       "      <td>4</td>\n",
       "      <td>1200000</td>\n",
       "    </tr>\n",
       "    <tr>\n",
       "      <th>3</th>\n",
       "      <td>41</td>\n",
       "      <td>0</td>\n",
       "      <td>0</td>\n",
       "      <td>1</td>\n",
       "      <td>3</td>\n",
       "      <td>0</td>\n",
       "      <td>0</td>\n",
       "      <td>1</td>\n",
       "      <td>1600000</td>\n",
       "      <td>600000</td>\n",
       "      <td>2200000</td>\n",
       "      <td>2</td>\n",
       "      <td>1200000</td>\n",
       "    </tr>\n",
       "    <tr>\n",
       "      <th>4</th>\n",
       "      <td>31</td>\n",
       "      <td>1</td>\n",
       "      <td>0</td>\n",
       "      <td>1</td>\n",
       "      <td>2</td>\n",
       "      <td>1</td>\n",
       "      <td>0</td>\n",
       "      <td>1</td>\n",
       "      <td>1800000</td>\n",
       "      <td>800000</td>\n",
       "      <td>2600000</td>\n",
       "      <td>6</td>\n",
       "      <td>1600000</td>\n",
       "    </tr>\n",
       "  </tbody>\n",
       "</table>\n",
       "</div>"
      ],
      "text/plain": [
       "   Age  Profession  Marrital Status  Education  No of Dependents  \\\n",
       "0   27           1                1          1                 0   \n",
       "1   35           1                0          1                 2   \n",
       "2   45           0                0          0                 4   \n",
       "3   41           0                0          1                 3   \n",
       "4   31           1                0          1                 2   \n",
       "\n",
       "   Personal loan  House Loan  Wife Working   Salary  Wife Salary  \\\n",
       "0              1           0             0   800000            0   \n",
       "1              1           1             1  1400000       600000   \n",
       "2              1           1             0  1800000            0   \n",
       "3              0           0             1  1600000       600000   \n",
       "4              1           0             1  1800000       800000   \n",
       "\n",
       "   Total Salary  Make    Price  \n",
       "0        800000     8   800000  \n",
       "1       2000000     1  1000000  \n",
       "2       1800000     4  1200000  \n",
       "3       2200000     2  1200000  \n",
       "4       2600000     6  1600000  "
      ]
     },
     "execution_count": 21,
     "metadata": {},
     "output_type": "execute_result"
    }
   ],
   "source": [
    "# Initialize the LabelEncoder\n",
    "encoder = LabelEncoder()\n",
    "\n",
    "# Apply LabelEncoder to each categorical column in the DataFrame\n",
    "df_encoded = df.copy()  # Make a copy of the original DataFrame to preserve it\n",
    "for column in df_encoded.select_dtypes(include=['object', 'category']).columns:\n",
    "    df_encoded[column] = encoder.fit_transform(df_encoded[column])\n",
    "\n",
    "# Now df_encoded contains the encoded values\n",
    "df_encoded.head()"
   ]
  },
  {
   "cell_type": "code",
   "execution_count": 34,
   "id": "6d1c6d34",
   "metadata": {},
   "outputs": [],
   "source": [
    "# feature scaling\n",
    "df_scaled = df_encoded.copy()\n",
    "scaler = StandardScaler()\n",
    "scaling_feature = [\"Age\", \"Salary\", \"Wife Salary\", \"Total Salary\", \"Price\"]\n",
    "df_scaled[scaling_feature]  = scaler.fit_transform(df_scaled[scaling_feature])"
   ]
  },
  {
   "cell_type": "markdown",
   "id": "fed4940c",
   "metadata": {},
   "source": [
    "Market Segmentation"
   ]
  },
  {
   "cell_type": "code",
   "execution_count": 52,
   "id": "cc131701",
   "metadata": {},
   "outputs": [
    {
     "data": {
      "image/png": "[encoded data removed]",
      "text/plain": [
       "<Figure size 1000x600 with 1 Axes>"
      ]
     },
     "metadata": {},
     "output_type": "display_data"
    },
    {
     "data": {
      "application/vnd.plotly.v1+json": {
       "config": {
        "plotlyServerURL": "https://plot.ly"
       },
       "data": [
        {
         "hovertemplate": "PCA Component 1=%{x}<br>PCA Component 2=%{y}<br>PCA Component 3=%{z}<br>color=%{marker.color}<extra></extra>",
         "legendgroup": "",
         "marker": {
          "color": [
           2,
           3,
           0,
           3,
           2,
           3,
           3,
           3,
           2,
           2,
           0,
           3,
           2,
           2,
           3,
           0,
           2,
           1,
           1,
           1,
           3,
           2,
           0,
           3,
           3,
           0,
           3,
           2,
           2,
           0,
           3,
           0,
           0,
           0,
           3,
           0,
           1,
           1,
           2,
           1,
           2,
           1,
           2,
           0,
           2,
           0,
           3,
           0,
           2,
           0,
           0,
           0,
           0,
           0,
           0,
           0,
           3,
           1,
           1,
           1,
           1,
           1,
           2,
           3,
           3,
           3,
           0,
           3,
           0,
           2,
           0,
           0,
           3,
           2,
           1,
           0,
           2,
           0,
           0,
           0,
           3,
           0,
           3,
           0,
           2,
           3,
           1,
           3,
           0,
           3,
           2,
           0,
           3,
           1,
           2,
           0,
           3,
           0,
           3
          ],
          "coloraxis": "coloraxis",
          "symbol": "circle"
         },
         "mode": "markers",
         "name": "",
         "scene": "scene",
         "showlegend": false,
         "type": "scatter3d",
         "x": [
          3.403612306425474,
          -2.568168359327472,
          0.3295758956386492,
          -1.3710125359813858,
          2.5779102072413647,
          -4.133866959779172,
          -1.5860570366805167,
          -3.843690445069522,
          3.1711741060484324,
          4.006235858826617,
          2.4964040901919606,
          -3.8270179240098705,
          2.675762863575115,
          3.6857113107811403,
          -3.9037991900053846,
          3.065149307202465,
          3.420569556567806,
          -4.232814403534613,
          -2.04115720422415,
          -3.963689870491126,
          -1.2931061089787796,
          4.044510117882893,
          2.600290482276951,
          -3.743848910935519,
          -2.526097220760134,
          2.7373393433292468,
          -3.8822870339428404,
          3.8547577226212026,
          3.476787288699296,
          2.690755920806747,
          -3.922540443923845,
          0.5231668620406038,
          0.015197237968014447,
          -0.3007675460756879,
          -2.4881497951118505,
          3.135027908843484,
          -1.7643295037502,
          -0.5237240996966127,
          2.016915222615991,
          -2.5473416145534484,
          3.925093996484888,
          -2.8846408122720653,
          2.463086665295676,
          0.5621348999667073,
          3.8059855221602965,
          0.11494549224483884,
          -3.1476296083755044,
          0.63313039357533,
          3.9320968812254966,
          -0.09057379798265162,
          0.5194131830779593,
          3.433322310963974,
          2.7163465956973756,
          0.32408132903397485,
          2.9584645687405238,
          -0.1311745732647819,
          -2.333892210298389,
          -4.129648467940083,
          -3.036268238879246,
          -4.236818360448955,
          -1.9454565525668377,
          -0.8389553540660744,
          2.1664315338201505,
          -3.7844274570025123,
          -2.529351788519472,
          -3.7518290356878006,
          0.1008620414037732,
          -1.6027664945484374,
          0.2544654347322496,
          3.079675295660573,
          0.7835763080601522,
          2.890971400928833,
          -3.9195249322261634,
          2.569110855502125,
          -1.5911062917002483,
          0.12282277327590624,
          3.9194547369806685,
          2.770278258987776,
          -0.07477656539164718,
          3.429867513881719,
          -3.535830889379967,
          3.6465397800611696,
          -2.385679922456974,
          0.6934929982276284,
          4.249907094692248,
          -3.686268984529608,
          -4.1657030255665255,
          -1.457386514655706,
          0.25005536834061676,
          -3.7277282776914333,
          3.7535457380891675,
          3.4820463860966697,
          -1.350340388428222,
          -4.195731078238236,
          2.295260517671774,
          3.6721067792414472,
          -2.435768466366801,
          0.3946766157051467,
          -2.407358584093829
         ],
         "y": [
          -4.6340467468628255,
          0.1838811155770113,
          0.8336870639636774,
          1.0316449372249408,
          -0.45410369710524046,
          -0.9588447401537042,
          0.3954101408765247,
          0.2511559417516743,
          -0.6302141467709265,
          -1.5559886180138716,
          0.10882477450747097,
          0.5502827064965491,
          -3.695178630845462,
          -2.984800371670851,
          -0.33809282844030913,
          4.730674590512313,
          -4.695697867649794,
          -2.526313405171326,
          -1.64983556027403,
          -1.7426618450928832,
          1.1291738402760059,
          -1.52312817308719,
          0.07013295298078782,
          0.4238444069798222,
          0.6218025941327626,
          0.09190274251409566,
          0.37485635943544887,
          -1.8185355097420752,
          -0.17285377604465008,
          -0.009401571311509383,
          0.057898936101348046,
          0.4901659932249959,
          2.267050411259197,
          1.0818082614396385,
          1.6789857547184255,
          1.807691434947375,
          -1.7213754117754694,
          -1.1728835013318966,
          -2.7479813549297893,
          -0.7742098999755037,
          -1.9787109501536762,
          -1.5370189738981632,
          -1.460069242505525,
          0.19598355090699895,
          -2.2970279024032223,
          1.9089612364130857,
          -0.7344037297015009,
          0.19560233994754736,
          -2.116668960624065,
          1.5284029659916631,
          1.3425005352406436,
          2.8456810629466633,
          1.423407759714254,
          2.67950517277988,
          3.516017670628826,
          1.9513856571190127,
          1.6252746586910565,
          -2.291588740204566,
          -2.210986621017839,
          -2.441399301098149,
          -2.0875524258746614,
          -1.8959581398995429,
          -2.1569679677942815,
          0.1649226706252544,
          0.06627505086247332,
          0.4325778247135857,
          1.7782156201016477,
          0.16547973054709714,
          2.2350491984829226,
          -1.0982715396355025,
          0.43957506563326504,
          0.5816474858891888,
          -0.4199599966705426,
          -1.171852316629353,
          -0.84386510887492,
          1.5728616717610504,
          -1.8904594637655763,
          0.6224498267925971,
          2.1076082499018374,
          2.3932996483109377,
          1.568193217836007,
          2.894160326738196,
          1.6246411988018008,
          0.9846824545170659,
          -0.21010709627585106,
          0.893525083697032,
          -2.204772593667689,
          0.05486640473000263,
          1.9763139369547884,
          0.43957243886245073,
          -2.490910185976895,
          2.5999632999993696,
          0.9816090025340487,
          -2.4928290079429916,
          -1.9599662221937073,
          3.7709460878201497,
          1.4980691693747472,
          3.015166167307516,
          1.5422257409628102
         ],
         "z": [
          0.11652956971090109,
          0.2257704460976009,
          -2.387135973038378,
          -0.42463662955788584,
          0.5607911836603762,
          -1.2694615233112165,
          -0.9714037791967813,
          -1.7950304262709635,
          -2.2621649885218473,
          -1.6354062189404928,
          -1.2011480467718967,
          -1.882233766201934,
          0.5425277118107982,
          -1.3029066492154957,
          -0.9418362050469148,
          1.2407475522975615,
          0.26305795626220857,
          1.3050547835604194,
          -0.10493032721054203,
          1.6822274892582554,
          -0.15345310530086093,
          -1.5686594698791176,
          -0.2624299113088446,
          -1.4727128967102872,
          -0.320308617398133,
          0.8198678099061617,
          -2.058763297339846,
          -2.110659509587909,
          -0.8645380846518491,
          0.6231540640250395,
          -1.391963791122424,
          -0.5489123579890589,
          -0.5792938210563354,
          -0.24055290002509777,
          -1.77427323351178,
          0.2775509277470177,
          1.9719424124711837,
          2.3524575387237876,
          1.234853336710644,
          2.3196109176992983,
          -1.7422178620254127,
          1.397864689227575,
          2.0638817608829734,
          -0.17730818042404248,
          -1.4748547261972085,
          0.7323821381175286,
          -2.156902105623859,
          0.5258970352650749,
          -1.034289433466245,
          0.2516960199811722,
          -2.101097048418295,
          0.5451519464125592,
          -1.6638209952055298,
          0.7692534120349308,
          2.9369247795916116,
          -0.5778726788981554,
          -0.5703221220894281,
          1.3986698629338044,
          1.5445403945901344,
          1.1735897070131112,
          1.6048965621494602,
          1.6869257824236688,
          1.3511668153311758,
          -1.0099321412381346,
          0.6207034145036693,
          -1.1429281394852366,
          1.1478044484513625,
          -0.09181880049507367,
          1.3255250322191396,
          -1.6370474131571109,
          0.9162917228622435,
          0.8532065265838045,
          -0.3862908575343439,
          2.162249515066749,
          1.9232715504461566,
          1.4984318804849068,
          -1.4882577504456225,
          -0.14672889216176788,
          -0.4227527235775144,
          1.358346404715091,
          -1.2421743788355135,
          1.8434248813380083,
          -0.940190272286808,
          -0.12063922073244344,
          -2.031824332157851,
          -1.3917834114215084,
          1.150493094310468,
          0.7132984184122535,
          1.6680908006951494,
          -1.127564212538075,
          -1.341725293483907,
          0.9006834959136589,
          0.18219294479194198,
          1.3227214392632993,
          1.6968339795073573,
          0.5829449063923716,
          -0.5699138382951401,
          1.2261193771105767,
          -0.49654607960413505
         ]
        },
        {
         "marker": {
          "color": "red",
          "size": 5,
          "symbol": "x"
         },
         "mode": "markers",
         "name": "Centroids",
         "type": "scatter3d",
         "x": [
          1.4926239705243283,
          -2.8064923251952303,
          3.2951634272212913,
          -2.898050911384542
         ],
         "y": [
          1.647997754292271,
          -1.8395500357399763,
          -1.9883427609400173,
          0.5466024153872446
         ],
         "z": [
          0.3415824238981642,
          1.51528905979067,
          -0.47739363194485784,
          -0.8514456573789577
         ]
        }
       ],
       "layout": {
        "coloraxis": {
         "colorbar": {
          "title": {
           "text": "color"
          }
         },
         "colorscale": [
          [
           0,
           "#0d0887"
          ],
          [
           0.1111111111111111,
           "#46039f"
          ],
          [
           0.2222222222222222,
           "#7201a8"
          ],
          [
           0.3333333333333333,
           "#9c179e"
          ],
          [
           0.4444444444444444,
           "#bd3786"
          ],
          [
           0.5555555555555556,
           "#d8576b"
          ],
          [
           0.6666666666666666,
           "#ed7953"
          ],
          [
           0.7777777777777778,
           "#fb9f3a"
          ],
          [
           0.8888888888888888,
           "#fdca26"
          ],
          [
           1,
           "#f0f921"
          ]
         ]
        },
        "legend": {
         "tracegroupgap": 0
        },
        "scene": {
         "domain": {
          "x": [
           0,
           1
          ],
          "y": [
           0,
           1
          ]
         },
         "xaxis": {
          "title": {
           "text": "PCA Component 1"
          }
         },
         "yaxis": {
          "title": {
           "text": "PCA Component 2"
          }
         },
         "zaxis": {
          "title": {
           "text": "PCA Component 3"
          }
         }
        },
        "template": {
         "data": {
          "bar": [
           {
            "error_x": {
             "color": "#2a3f5f"
            },
            "error_y": {
             "color": "#2a3f5f"
            },
            "marker": {
             "line": {
              "color": "#E5ECF6",
              "width": 0.5
             },
             "pattern": {
              "fillmode": "overlay",
              "size": 10,
              "solidity": 0.2
             }
            },
            "type": "bar"
           }
          ],
          "barpolar": [
           {
            "marker": {
             "line": {
              "color": "#E5ECF6",
              "width": 0.5
             },
             "pattern": {
              "fillmode": "overlay",
              "size": 10,
              "solidity": 0.2
             }
            },
            "type": "barpolar"
           }
          ],
          "carpet": [
           {
            "aaxis": {
             "endlinecolor": "#2a3f5f",
             "gridcolor": "white",
             "linecolor": "white",
             "minorgridcolor": "white",
             "startlinecolor": "#2a3f5f"
            },
            "baxis": {
             "endlinecolor": "#2a3f5f",
             "gridcolor": "white",
             "linecolor": "white",
             "minorgridcolor": "white",
             "startlinecolor": "#2a3f5f"
            },
            "type": "carpet"
           }
          ],
          "choropleth": [
           {
            "colorbar": {
             "outlinewidth": 0,
             "ticks": ""
            },
            "type": "choropleth"
           }
          ],
          "contour": [
           {
            "colorbar": {
             "outlinewidth": 0,
             "ticks": ""
            },
            "colorscale": [
             [
              0,
              "#0d0887"
             ],
             [
              0.1111111111111111,
              "#46039f"
             ],
             [
              0.2222222222222222,
              "#7201a8"
             ],
             [
              0.3333333333333333,
              "#9c179e"
             ],
             [
              0.4444444444444444,
              "#bd3786"
             ],
             [
              0.5555555555555556,
              "#d8576b"
             ],
             [
              0.6666666666666666,
              "#ed7953"
             ],
             [
              0.7777777777777778,
              "#fb9f3a"
             ],
             [
              0.8888888888888888,
              "#fdca26"
             ],
             [
              1,
              "#f0f921"
             ]
            ],
            "type": "contour"
           }
          ],
          "contourcarpet": [
           {
            "colorbar": {
             "outlinewidth": 0,
             "ticks": ""
            },
            "type": "contourcarpet"
           }
          ],
          "heatmap": [
           {
            "colorbar": {
             "outlinewidth": 0,
             "ticks": ""
            },
            "colorscale": [
             [
              0,
              "#0d0887"
             ],
             [
              0.1111111111111111,
              "#46039f"
             ],
             [
              0.2222222222222222,
              "#7201a8"
             ],
             [
              0.3333333333333333,
              "#9c179e"
             ],
             [
              0.4444444444444444,
              "#bd3786"
             ],
             [
              0.5555555555555556,
              "#d8576b"
             ],
             [
              0.6666666666666666,
              "#ed7953"
             ],
             [
              0.7777777777777778,
              "#fb9f3a"
             ],
             [
              0.8888888888888888,
              "#fdca26"
             ],
             [
              1,
              "#f0f921"
             ]
            ],
            "type": "heatmap"
           }
          ],
          "heatmapgl": [
           {
            "colorbar": {
             "outlinewidth": 0,
             "ticks": ""
            },
            "colorscale": [
             [
              0,
              "#0d0887"
             ],
             [
              0.1111111111111111,
              "#46039f"
             ],
             [
              0.2222222222222222,
              "#7201a8"
             ],
             [
              0.3333333333333333,
              "#9c179e"
             ],
             [
              0.4444444444444444,
              "#bd3786"
             ],
             [
              0.5555555555555556,
              "#d8576b"
             ],
             [
              0.6666666666666666,
              "#ed7953"
             ],
             [
              0.7777777777777778,
              "#fb9f3a"
             ],
             [
              0.8888888888888888,
              "#fdca26"
             ],
             [
              1,
              "#f0f921"
             ]
            ],
            "type": "heatmapgl"
           }
          ],
          "histogram": [
           {
            "marker": {
             "pattern": {
              "fillmode": "overlay",
              "size": 10,
              "solidity": 0.2
             }
            },
            "type": "histogram"
           }
          ],
          "histogram2d": [
           {
            "colorbar": {
             "outlinewidth": 0,
             "ticks": ""
            },
            "colorscale": [
             [
              0,
              "#0d0887"
             ],
             [
              0.1111111111111111,
              "#46039f"
             ],
             [
              0.2222222222222222,
              "#7201a8"
             ],
             [
              0.3333333333333333,
              "#9c179e"
             ],
             [
              0.4444444444444444,
              "#bd3786"
             ],
             [
              0.5555555555555556,
              "#d8576b"
             ],
             [
              0.6666666666666666,
              "#ed7953"
             ],
             [
              0.7777777777777778,
              "#fb9f3a"
             ],
             [
              0.8888888888888888,
              "#fdca26"
             ],
             [
              1,
              "#f0f921"
             ]
            ],
            "type": "histogram2d"
           }
          ],
          "histogram2dcontour": [
           {
            "colorbar": {
             "outlinewidth": 0,
             "ticks": ""
            },
            "colorscale": [
             [
              0,
              "#0d0887"
             ],
             [
              0.1111111111111111,
              "#46039f"
             ],
             [
              0.2222222222222222,
              "#7201a8"
             ],
             [
              0.3333333333333333,
              "#9c179e"
             ],
             [
              0.4444444444444444,
              "#bd3786"
             ],
             [
              0.5555555555555556,
              "#d8576b"
             ],
             [
              0.6666666666666666,
              "#ed7953"
             ],
             [
              0.7777777777777778,
              "#fb9f3a"
             ],
             [
              0.8888888888888888,
              "#fdca26"
             ],
             [
              1,
              "#f0f921"
             ]
            ],
            "type": "histogram2dcontour"
           }
          ],
          "mesh3d": [
           {
            "colorbar": {
             "outlinewidth": 0,
             "ticks": ""
            },
            "type": "mesh3d"
           }
          ],
          "parcoords": [
           {
            "line": {
             "colorbar": {
              "outlinewidth": 0,
              "ticks": ""
             }
            },
            "type": "parcoords"
           }
          ],
          "pie": [
           {
            "automargin": true,
            "type": "pie"
           }
          ],
          "scatter": [
           {
            "fillpattern": {
             "fillmode": "overlay",
             "size": 10,
             "solidity": 0.2
            },
            "type": "scatter"
           }
          ],
          "scatter3d": [
           {
            "line": {
             "colorbar": {
              "outlinewidth": 0,
              "ticks": ""
             }
            },
            "marker": {
             "colorbar": {
              "outlinewidth": 0,
              "ticks": ""
             }
            },
            "type": "scatter3d"
           }
          ],
          "scattercarpet": [
           {
            "marker": {
             "colorbar": {
              "outlinewidth": 0,
              "ticks": ""
             }
            },
            "type": "scattercarpet"
           }
          ],
          "scattergeo": [
           {
            "marker": {
             "colorbar": {
              "outlinewidth": 0,
              "ticks": ""
             }
            },
            "type": "scattergeo"
           }
          ],
          "scattergl": [
           {
            "marker": {
             "colorbar": {
              "outlinewidth": 0,
              "ticks": ""
             }
            },
            "type": "scattergl"
           }
          ],
          "scattermapbox": [
           {
            "marker": {
             "colorbar": {
              "outlinewidth": 0,
              "ticks": ""
             }
            },
            "type": "scattermapbox"
           }
          ],
          "scatterpolar": [
           {
            "marker": {
             "colorbar": {
              "outlinewidth": 0,
              "ticks": ""
             }
            },
            "type": "scatterpolar"
           }
          ],
          "scatterpolargl": [
           {
            "marker": {
             "colorbar": {
              "outlinewidth": 0,
              "ticks": ""
             }
            },
            "type": "scatterpolargl"
           }
          ],
          "scatterternary": [
           {
            "marker": {
             "colorbar": {
              "outlinewidth": 0,
              "ticks": ""
             }
            },
            "type": "scatterternary"
           }
          ],
          "surface": [
           {
            "colorbar": {
             "outlinewidth": 0,
             "ticks": ""
            },
            "colorscale": [
             [
              0,
              "#0d0887"
             ],
             [
              0.1111111111111111,
              "#46039f"
             ],
             [
              0.2222222222222222,
              "#7201a8"
             ],
             [
              0.3333333333333333,
              "#9c179e"
             ],
             [
              0.4444444444444444,
              "#bd3786"
             ],
             [
              0.5555555555555556,
              "#d8576b"
             ],
             [
              0.6666666666666666,
              "#ed7953"
             ],
             [
              0.7777777777777778,
              "#fb9f3a"
             ],
             [
              0.8888888888888888,
              "#fdca26"
             ],
             [
              1,
              "#f0f921"
             ]
            ],
            "type": "surface"
           }
          ],
          "table": [
           {
            "cells": {
             "fill": {
              "color": "#EBF0F8"
             },
             "line": {
              "color": "white"
             }
            },
            "header": {
             "fill": {
              "color": "#C8D4E3"
             },
             "line": {
              "color": "white"
             }
            },
            "type": "table"
           }
          ]
         },
         "layout": {
          "annotationdefaults": {
           "arrowcolor": "#2a3f5f",
           "arrowhead": 0,
           "arrowwidth": 1
          },
          "autotypenumbers": "strict",
          "coloraxis": {
           "colorbar": {
            "outlinewidth": 0,
            "ticks": ""
           }
          },
          "colorscale": {
           "diverging": [
            [
             0,
             "#8e0152"
            ],
            [
             0.1,
             "#c51b7d"
            ],
            [
             0.2,
             "#de77ae"
            ],
            [
             0.3,
             "#f1b6da"
            ],
            [
             0.4,
             "#fde0ef"
            ],
            [
             0.5,
             "#f7f7f7"
            ],
            [
             0.6,
             "#e6f5d0"
            ],
            [
             0.7,
             "#b8e186"
            ],
            [
             0.8,
             "#7fbc41"
            ],
            [
             0.9,
             "#4d9221"
            ],
            [
             1,
             "#276419"
            ]
           ],
           "sequential": [
            [
             0,
             "#0d0887"
            ],
            [
             0.1111111111111111,
             "#46039f"
            ],
            [
             0.2222222222222222,
             "#7201a8"
            ],
            [
             0.3333333333333333,
             "#9c179e"
            ],
            [
             0.4444444444444444,
             "#bd3786"
            ],
            [
             0.5555555555555556,
             "#d8576b"
            ],
            [
             0.6666666666666666,
             "#ed7953"
            ],
            [
             0.7777777777777778,
             "#fb9f3a"
            ],
            [
             0.8888888888888888,
             "#fdca26"
            ],
            [
             1,
             "#f0f921"
            ]
           ],
           "sequentialminus": [
            [
             0,
             "#0d0887"
            ],
            [
             0.1111111111111111,
             "#46039f"
            ],
            [
             0.2222222222222222,
             "#7201a8"
            ],
            [
             0.3333333333333333,
             "#9c179e"
            ],
            [
             0.4444444444444444,
             "#bd3786"
            ],
            [
             0.5555555555555556,
             "#d8576b"
            ],
            [
             0.6666666666666666,
             "#ed7953"
            ],
            [
             0.7777777777777778,
             "#fb9f3a"
            ],
            [
             0.8888888888888888,
             "#fdca26"
            ],
            [
             1,
             "#f0f921"
            ]
           ]
          },
          "colorway": [
           "#636efa",
           "#EF553B",
           "#00cc96",
           "#ab63fa",
           "#FFA15A",
           "#19d3f3",
           "#FF6692",
           "#B6E880",
           "#FF97FF",
           "#FECB52"
          ],
          "font": {
           "color": "#2a3f5f"
          },
          "geo": {
           "bgcolor": "white",
           "lakecolor": "white",
           "landcolor": "#E5ECF6",
           "showlakes": true,
           "showland": true,
           "subunitcolor": "white"
          },
          "hoverlabel": {
           "align": "left"
          },
          "hovermode": "closest",
          "mapbox": {
           "style": "light"
          },
          "paper_bgcolor": "white",
          "plot_bgcolor": "#E5ECF6",
          "polar": {
           "angularaxis": {
            "gridcolor": "white",
            "linecolor": "white",
            "ticks": ""
           },
           "bgcolor": "#E5ECF6",
           "radialaxis": {
            "gridcolor": "white",
            "linecolor": "white",
            "ticks": ""
           }
          },
          "scene": {
           "xaxis": {
            "backgroundcolor": "#E5ECF6",
            "gridcolor": "white",
            "gridwidth": 2,
            "linecolor": "white",
            "showbackground": true,
            "ticks": "",
            "zerolinecolor": "white"
           },
           "yaxis": {
            "backgroundcolor": "#E5ECF6",
            "gridcolor": "white",
            "gridwidth": 2,
            "linecolor": "white",
            "showbackground": true,
            "ticks": "",
            "zerolinecolor": "white"
           },
           "zaxis": {
            "backgroundcolor": "#E5ECF6",
            "gridcolor": "white",
            "gridwidth": 2,
            "linecolor": "white",
            "showbackground": true,
            "ticks": "",
            "zerolinecolor": "white"
           }
          },
          "shapedefaults": {
           "line": {
            "color": "#2a3f5f"
           }
          },
          "ternary": {
           "aaxis": {
            "gridcolor": "white",
            "linecolor": "white",
            "ticks": ""
           },
           "baxis": {
            "gridcolor": "white",
            "linecolor": "white",
            "ticks": ""
           },
           "bgcolor": "#E5ECF6",
           "caxis": {
            "gridcolor": "white",
            "linecolor": "white",
            "ticks": ""
           }
          },
          "title": {
           "x": 0.05
          },
          "xaxis": {
           "automargin": true,
           "gridcolor": "white",
           "linecolor": "white",
           "ticks": "",
           "title": {
            "standoff": 15
           },
           "zerolinecolor": "white",
           "zerolinewidth": 2
          },
          "yaxis": {
           "automargin": true,
           "gridcolor": "white",
           "linecolor": "white",
           "ticks": "",
           "title": {
            "standoff": 15
           },
           "zerolinecolor": "white",
           "zerolinewidth": 2
          }
         }
        },
        "title": {
         "text": "KMeans Clustering with 4 Clusters (3D)"
        }
       }
      },
      "text/html": [
       "<div>                            <div id=\"93df2e3e-ad59-46e1-a52f-4915f6f6ddff\" class=\"plotly-graph-div\" style=\"height:525px; width:100%;\"></div>            <script type=\"text/javascript\">                require([\"plotly\"], function(Plotly) {                    window.PLOTLYENV=window.PLOTLYENV || {};                                    if (document.getElementById(\"93df2e3e-ad59-46e1-a52f-4915f6f6ddff\")) {                    Plotly.newPlot(                        \"93df2e3e-ad59-46e1-a52f-4915f6f6ddff\",                        [{\"hovertemplate\":\"PCA Component 1=%{x}<br>PCA Component 2=%{y}<br>PCA Component 3=%{z}<br>color=%{marker.color}<extra></extra>\",\"legendgroup\":\"\",\"marker\":{\"color\":[2,3,0,3,2,3,3,3,2,2,0,3,2,2,3,0,2,1,1,1,3,2,0,3,3,0,3,2,2,0,3,0,0,0,3,0,1,1,2,1,2,1,2,0,2,0,3,0,2,0,0,0,0,0,0,0,3,1,1,1,1,1,2,3,3,3,0,3,0,2,0,0,3,2,1,0,2,0,0,0,3,0,3,0,2,3,1,3,0,3,2,0,3,1,2,0,3,0,3],\"coloraxis\":\"coloraxis\",\"symbol\":\"circle\"},\"mode\":\"markers\",\"name\":\"\",\"scene\":\"scene\",\"showlegend\":false,\"x\":[3.403612306425474,-2.568168359327472,0.3295758956386492,-1.3710125359813858,2.5779102072413647,-4.133866959779172,-1.5860570366805167,-3.843690445069522,3.1711741060484324,4.006235858826617,2.4964040901919606,-3.8270179240098705,2.675762863575115,3.6857113107811403,-3.9037991900053846,3.065149307202465,3.420569556567806,-4.232814403534613,-2.04115720422415,-3.963689870491126,-1.2931061089787796,4.044510117882893,2.600290482276951,-3.743848910935519,-2.526097220760134,2.7373393433292468,-3.8822870339428404,3.8547577226212026,3.476787288699296,2.690755920806747,-3.922540443923845,0.5231668620406038,0.015197237968014447,-0.3007675460756879,-2.4881497951118505,3.135027908843484,-1.7643295037502,-0.5237240996966127,2.016915222615991,-2.5473416145534484,3.925093996484888,-2.8846408122720653,2.463086665295676,0.5621348999667073,3.8059855221602965,0.11494549224483884,-3.1476296083755044,0.63313039357533,3.9320968812254966,-0.09057379798265162,0.5194131830779593,3.433322310963974,2.7163465956973756,0.32408132903397485,2.9584645687405238,-0.1311745732647819,-2.333892210298389,-4.129648467940083,-3.036268238879246,-4.236818360448955,-1.9454565525668377,-0.8389553540660744,2.1664315338201505,-3.7844274570025123,-2.529351788519472,-3.7518290356878006,0.1008620414037732,-1.6027664945484374,0.2544654347322496,3.079675295660573,0.7835763080601522,2.890971400928833,-3.9195249322261634,2.569110855502125,-1.5911062917002483,0.12282277327590624,3.9194547369806685,2.770278258987776,-0.07477656539164718,3.429867513881719,-3.535830889379967,3.6465397800611696,-2.385679922456974,0.6934929982276284,4.249907094692248,-3.686268984529608,-4.1657030255665255,-1.457386514655706,0.25005536834061676,-3.7277282776914333,3.7535457380891675,3.4820463860966697,-1.350340388428222,-4.195731078238236,2.295260517671774,3.6721067792414472,-2.435768466366801,0.3946766157051467,-2.407358584093829],\"y\":[-4.6340467468628255,0.1838811155770113,0.8336870639636774,1.0316449372249408,-0.45410369710524046,-0.9588447401537042,0.3954101408765247,0.2511559417516743,-0.6302141467709265,-1.5559886180138716,0.10882477450747097,0.5502827064965491,-3.695178630845462,-2.984800371670851,-0.33809282844030913,4.730674590512313,-4.695697867649794,-2.526313405171326,-1.64983556027403,-1.7426618450928832,1.1291738402760059,-1.52312817308719,0.07013295298078782,0.4238444069798222,0.6218025941327626,0.09190274251409566,0.37485635943544887,-1.8185355097420752,-0.17285377604465008,-0.009401571311509383,0.057898936101348046,0.4901659932249959,2.267050411259197,1.0818082614396385,1.6789857547184255,1.807691434947375,-1.7213754117754694,-1.1728835013318966,-2.7479813549297893,-0.7742098999755037,-1.9787109501536762,-1.5370189738981632,-1.460069242505525,0.19598355090699895,-2.2970279024032223,1.9089612364130857,-0.7344037297015009,0.19560233994754736,-2.116668960624065,1.5284029659916631,1.3425005352406436,2.8456810629466633,1.423407759714254,2.67950517277988,3.516017670628826,1.9513856571190127,1.6252746586910565,-2.291588740204566,-2.210986621017839,-2.441399301098149,-2.0875524258746614,-1.8959581398995429,-2.1569679677942815,0.1649226706252544,0.06627505086247332,0.4325778247135857,1.7782156201016477,0.16547973054709714,2.2350491984829226,-1.0982715396355025,0.43957506563326504,0.5816474858891888,-0.4199599966705426,-1.171852316629353,-0.84386510887492,1.5728616717610504,-1.8904594637655763,0.6224498267925971,2.1076082499018374,2.3932996483109377,1.568193217836007,2.894160326738196,1.6246411988018008,0.9846824545170659,-0.21010709627585106,0.893525083697032,-2.204772593667689,0.05486640473000263,1.9763139369547884,0.43957243886245073,-2.490910185976895,2.5999632999993696,0.9816090025340487,-2.4928290079429916,-1.9599662221937073,3.7709460878201497,1.4980691693747472,3.015166167307516,1.5422257409628102],\"z\":[0.11652956971090109,0.2257704460976009,-2.387135973038378,-0.42463662955788584,0.5607911836603762,-1.2694615233112165,-0.9714037791967813,-1.7950304262709635,-2.2621649885218473,-1.6354062189404928,-1.2011480467718967,-1.882233766201934,0.5425277118107982,-1.3029066492154957,-0.9418362050469148,1.2407475522975615,0.26305795626220857,1.3050547835604194,-0.10493032721054203,1.6822274892582554,-0.15345310530086093,-1.5686594698791176,-0.2624299113088446,-1.4727128967102872,-0.320308617398133,0.8198678099061617,-2.058763297339846,-2.110659509587909,-0.8645380846518491,0.6231540640250395,-1.391963791122424,-0.5489123579890589,-0.5792938210563354,-0.24055290002509777,-1.77427323351178,0.2775509277470177,1.9719424124711837,2.3524575387237876,1.234853336710644,2.3196109176992983,-1.7422178620254127,1.397864689227575,2.0638817608829734,-0.17730818042404248,-1.4748547261972085,0.7323821381175286,-2.156902105623859,0.5258970352650749,-1.034289433466245,0.2516960199811722,-2.101097048418295,0.5451519464125592,-1.6638209952055298,0.7692534120349308,2.9369247795916116,-0.5778726788981554,-0.5703221220894281,1.3986698629338044,1.5445403945901344,1.1735897070131112,1.6048965621494602,1.6869257824236688,1.3511668153311758,-1.0099321412381346,0.6207034145036693,-1.1429281394852366,1.1478044484513625,-0.09181880049507367,1.3255250322191396,-1.6370474131571109,0.9162917228622435,0.8532065265838045,-0.3862908575343439,2.162249515066749,1.9232715504461566,1.4984318804849068,-1.4882577504456225,-0.14672889216176788,-0.4227527235775144,1.358346404715091,-1.2421743788355135,1.8434248813380083,-0.940190272286808,-0.12063922073244344,-2.031824332157851,-1.3917834114215084,1.150493094310468,0.7132984184122535,1.6680908006951494,-1.127564212538075,-1.341725293483907,0.9006834959136589,0.18219294479194198,1.3227214392632993,1.6968339795073573,0.5829449063923716,-0.5699138382951401,1.2261193771105767,-0.49654607960413505],\"type\":\"scatter3d\"},{\"marker\":{\"color\":\"red\",\"size\":5,\"symbol\":\"x\"},\"mode\":\"markers\",\"name\":\"Centroids\",\"x\":[1.4926239705243283,-2.8064923251952303,3.2951634272212913,-2.898050911384542],\"y\":[1.647997754292271,-1.8395500357399763,-1.9883427609400173,0.5466024153872446],\"z\":[0.3415824238981642,1.51528905979067,-0.47739363194485784,-0.8514456573789577],\"type\":\"scatter3d\"}],                        {\"template\":{\"data\":{\"histogram2dcontour\":[{\"type\":\"histogram2dcontour\",\"colorbar\":{\"outlinewidth\":0,\"ticks\":\"\"},\"colorscale\":[[0.0,\"#0d0887\"],[0.1111111111111111,\"#46039f\"],[0.2222222222222222,\"#7201a8\"],[0.3333333333333333,\"#9c179e\"],[0.4444444444444444,\"#bd3786\"],[0.5555555555555556,\"#d8576b\"],[0.6666666666666666,\"#ed7953\"],[0.7777777777777778,\"#fb9f3a\"],[0.8888888888888888,\"#fdca26\"],[1.0,\"#f0f921\"]]}],\"choropleth\":[{\"type\":\"choropleth\",\"colorbar\":{\"outlinewidth\":0,\"ticks\":\"\"}}],\"histogram2d\":[{\"type\":\"histogram2d\",\"colorbar\":{\"outlinewidth\":0,\"ticks\":\"\"},\"colorscale\":[[0.0,\"#0d0887\"],[0.1111111111111111,\"#46039f\"],[0.2222222222222222,\"#7201a8\"],[0.3333333333333333,\"#9c179e\"],[0.4444444444444444,\"#bd3786\"],[0.5555555555555556,\"#d8576b\"],[0.6666666666666666,\"#ed7953\"],[0.7777777777777778,\"#fb9f3a\"],[0.8888888888888888,\"#fdca26\"],[1.0,\"#f0f921\"]]}],\"heatmap\":[{\"type\":\"heatmap\",\"colorbar\":{\"outlinewidth\":0,\"ticks\":\"\"},\"colorscale\":[[0.0,\"#0d0887\"],[0.1111111111111111,\"#46039f\"],[0.2222222222222222,\"#7201a8\"],[0.3333333333333333,\"#9c179e\"],[0.4444444444444444,\"#bd3786\"],[0.5555555555555556,\"#d8576b\"],[0.6666666666666666,\"#ed7953\"],[0.7777777777777778,\"#fb9f3a\"],[0.8888888888888888,\"#fdca26\"],[1.0,\"#f0f921\"]]}],\"heatmapgl\":[{\"type\":\"heatmapgl\",\"colorbar\":{\"outlinewidth\":0,\"ticks\":\"\"},\"colorscale\":[[0.0,\"#0d0887\"],[0.1111111111111111,\"#46039f\"],[0.2222222222222222,\"#7201a8\"],[0.3333333333333333,\"#9c179e\"],[0.4444444444444444,\"#bd3786\"],[0.5555555555555556,\"#d8576b\"],[0.6666666666666666,\"#ed7953\"],[0.7777777777777778,\"#fb9f3a\"],[0.8888888888888888,\"#fdca26\"],[1.0,\"#f0f921\"]]}],\"contourcarpet\":[{\"type\":\"contourcarpet\",\"colorbar\":{\"outlinewidth\":0,\"ticks\":\"\"}}],\"contour\":[{\"type\":\"contour\",\"colorbar\":{\"outlinewidth\":0,\"ticks\":\"\"},\"colorscale\":[[0.0,\"#0d0887\"],[0.1111111111111111,\"#46039f\"],[0.2222222222222222,\"#7201a8\"],[0.3333333333333333,\"#9c179e\"],[0.4444444444444444,\"#bd3786\"],[0.5555555555555556,\"#d8576b\"],[0.6666666666666666,\"#ed7953\"],[0.7777777777777778,\"#fb9f3a\"],[0.8888888888888888,\"#fdca26\"],[1.0,\"#f0f921\"]]}],\"surface\":[{\"type\":\"surface\",\"colorbar\":{\"outlinewidth\":0,\"ticks\":\"\"},\"colorscale\":[[0.0,\"#0d0887\"],[0.1111111111111111,\"#46039f\"],[0.2222222222222222,\"#7201a8\"],[0.3333333333333333,\"#9c179e\"],[0.4444444444444444,\"#bd3786\"],[0.5555555555555556,\"#d8576b\"],[0.6666666666666666,\"#ed7953\"],[0.7777777777777778,\"#fb9f3a\"],[0.8888888888888888,\"#fdca26\"],[1.0,\"#f0f921\"]]}],\"mesh3d\":[{\"type\":\"mesh3d\",\"colorbar\":{\"outlinewidth\":0,\"ticks\":\"\"}}],\"scatter\":[{\"fillpattern\":{\"fillmode\":\"overlay\",\"size\":10,\"solidity\":0.2},\"type\":\"scatter\"}],\"parcoords\":[{\"type\":\"parcoords\",\"line\":{\"colorbar\":{\"outlinewidth\":0,\"ticks\":\"\"}}}],\"scatterpolargl\":[{\"type\":\"scatterpolargl\",\"marker\":{\"colorbar\":{\"outlinewidth\":0,\"ticks\":\"\"}}}],\"bar\":[{\"error_x\":{\"color\":\"#2a3f5f\"},\"error_y\":{\"color\":\"#2a3f5f\"},\"marker\":{\"line\":{\"color\":\"#E5ECF6\",\"width\":0.5},\"pattern\":{\"fillmode\":\"overlay\",\"size\":10,\"solidity\":0.2}},\"type\":\"bar\"}],\"scattergeo\":[{\"type\":\"scattergeo\",\"marker\":{\"colorbar\":{\"outlinewidth\":0,\"ticks\":\"\"}}}],\"scatterpolar\":[{\"type\":\"scatterpolar\",\"marker\":{\"colorbar\":{\"outlinewidth\":0,\"ticks\":\"\"}}}],\"histogram\":[{\"marker\":{\"pattern\":{\"fillmode\":\"overlay\",\"size\":10,\"solidity\":0.2}},\"type\":\"histogram\"}],\"scattergl\":[{\"type\":\"scattergl\",\"marker\":{\"colorbar\":{\"outlinewidth\":0,\"ticks\":\"\"}}}],\"scatter3d\":[{\"type\":\"scatter3d\",\"line\":{\"colorbar\":{\"outlinewidth\":0,\"ticks\":\"\"}},\"marker\":{\"colorbar\":{\"outlinewidth\":0,\"ticks\":\"\"}}}],\"scattermapbox\":[{\"type\":\"scattermapbox\",\"marker\":{\"colorbar\":{\"outlinewidth\":0,\"ticks\":\"\"}}}],\"scatterternary\":[{\"type\":\"scatterternary\",\"marker\":{\"colorbar\":{\"outlinewidth\":0,\"ticks\":\"\"}}}],\"scattercarpet\":[{\"type\":\"scattercarpet\",\"marker\":{\"colorbar\":{\"outlinewidth\":0,\"ticks\":\"\"}}}],\"carpet\":[{\"aaxis\":{\"endlinecolor\":\"#2a3f5f\",\"gridcolor\":\"white\",\"linecolor\":\"white\",\"minorgridcolor\":\"white\",\"startlinecolor\":\"#2a3f5f\"},\"baxis\":{\"endlinecolor\":\"#2a3f5f\",\"gridcolor\":\"white\",\"linecolor\":\"white\",\"minorgridcolor\":\"white\",\"startlinecolor\":\"#2a3f5f\"},\"type\":\"carpet\"}],\"table\":[{\"cells\":{\"fill\":{\"color\":\"#EBF0F8\"},\"line\":{\"color\":\"white\"}},\"header\":{\"fill\":{\"color\":\"#C8D4E3\"},\"line\":{\"color\":\"white\"}},\"type\":\"table\"}],\"barpolar\":[{\"marker\":{\"line\":{\"color\":\"#E5ECF6\",\"width\":0.5},\"pattern\":{\"fillmode\":\"overlay\",\"size\":10,\"solidity\":0.2}},\"type\":\"barpolar\"}],\"pie\":[{\"automargin\":true,\"type\":\"pie\"}]},\"layout\":{\"autotypenumbers\":\"strict\",\"colorway\":[\"#636efa\",\"#EF553B\",\"#00cc96\",\"#ab63fa\",\"#FFA15A\",\"#19d3f3\",\"#FF6692\",\"#B6E880\",\"#FF97FF\",\"#FECB52\"],\"font\":{\"color\":\"#2a3f5f\"},\"hovermode\":\"closest\",\"hoverlabel\":{\"align\":\"left\"},\"paper_bgcolor\":\"white\",\"plot_bgcolor\":\"#E5ECF6\",\"polar\":{\"bgcolor\":\"#E5ECF6\",\"angularaxis\":{\"gridcolor\":\"white\",\"linecolor\":\"white\",\"ticks\":\"\"},\"radialaxis\":{\"gridcolor\":\"white\",\"linecolor\":\"white\",\"ticks\":\"\"}},\"ternary\":{\"bgcolor\":\"#E5ECF6\",\"aaxis\":{\"gridcolor\":\"white\",\"linecolor\":\"white\",\"ticks\":\"\"},\"baxis\":{\"gridcolor\":\"white\",\"linecolor\":\"white\",\"ticks\":\"\"},\"caxis\":{\"gridcolor\":\"white\",\"linecolor\":\"white\",\"ticks\":\"\"}},\"coloraxis\":{\"colorbar\":{\"outlinewidth\":0,\"ticks\":\"\"}},\"colorscale\":{\"sequential\":[[0.0,\"#0d0887\"],[0.1111111111111111,\"#46039f\"],[0.2222222222222222,\"#7201a8\"],[0.3333333333333333,\"#9c179e\"],[0.4444444444444444,\"#bd3786\"],[0.5555555555555556,\"#d8576b\"],[0.6666666666666666,\"#ed7953\"],[0.7777777777777778,\"#fb9f3a\"],[0.8888888888888888,\"#fdca26\"],[1.0,\"#f0f921\"]],\"sequentialminus\":[[0.0,\"#0d0887\"],[0.1111111111111111,\"#46039f\"],[0.2222222222222222,\"#7201a8\"],[0.3333333333333333,\"#9c179e\"],[0.4444444444444444,\"#bd3786\"],[0.5555555555555556,\"#d8576b\"],[0.6666666666666666,\"#ed7953\"],[0.7777777777777778,\"#fb9f3a\"],[0.8888888888888888,\"#fdca26\"],[1.0,\"#f0f921\"]],\"diverging\":[[0,\"#8e0152\"],[0.1,\"#c51b7d\"],[0.2,\"#de77ae\"],[0.3,\"#f1b6da\"],[0.4,\"#fde0ef\"],[0.5,\"#f7f7f7\"],[0.6,\"#e6f5d0\"],[0.7,\"#b8e186\"],[0.8,\"#7fbc41\"],[0.9,\"#4d9221\"],[1,\"#276419\"]]},\"xaxis\":{\"gridcolor\":\"white\",\"linecolor\":\"white\",\"ticks\":\"\",\"title\":{\"standoff\":15},\"zerolinecolor\":\"white\",\"automargin\":true,\"zerolinewidth\":2},\"yaxis\":{\"gridcolor\":\"white\",\"linecolor\":\"white\",\"ticks\":\"\",\"title\":{\"standoff\":15},\"zerolinecolor\":\"white\",\"automargin\":true,\"zerolinewidth\":2},\"scene\":{\"xaxis\":{\"backgroundcolor\":\"#E5ECF6\",\"gridcolor\":\"white\",\"linecolor\":\"white\",\"showbackground\":true,\"ticks\":\"\",\"zerolinecolor\":\"white\",\"gridwidth\":2},\"yaxis\":{\"backgroundcolor\":\"#E5ECF6\",\"gridcolor\":\"white\",\"linecolor\":\"white\",\"showbackground\":true,\"ticks\":\"\",\"zerolinecolor\":\"white\",\"gridwidth\":2},\"zaxis\":{\"backgroundcolor\":\"#E5ECF6\",\"gridcolor\":\"white\",\"linecolor\":\"white\",\"showbackground\":true,\"ticks\":\"\",\"zerolinecolor\":\"white\",\"gridwidth\":2}},\"shapedefaults\":{\"line\":{\"color\":\"#2a3f5f\"}},\"annotationdefaults\":{\"arrowcolor\":\"#2a3f5f\",\"arrowhead\":0,\"arrowwidth\":1},\"geo\":{\"bgcolor\":\"white\",\"landcolor\":\"#E5ECF6\",\"subunitcolor\":\"white\",\"showland\":true,\"showlakes\":true,\"lakecolor\":\"white\"},\"title\":{\"x\":0.05},\"mapbox\":{\"style\":\"light\"}}},\"scene\":{\"domain\":{\"x\":[0.0,1.0],\"y\":[0.0,1.0]},\"xaxis\":{\"title\":{\"text\":\"PCA Component 1\"}},\"yaxis\":{\"title\":{\"text\":\"PCA Component 2\"}},\"zaxis\":{\"title\":{\"text\":\"PCA Component 3\"}}},\"coloraxis\":{\"colorbar\":{\"title\":{\"text\":\"color\"}},\"colorscale\":[[0.0,\"#0d0887\"],[0.1111111111111111,\"#46039f\"],[0.2222222222222222,\"#7201a8\"],[0.3333333333333333,\"#9c179e\"],[0.4444444444444444,\"#bd3786\"],[0.5555555555555556,\"#d8576b\"],[0.6666666666666666,\"#ed7953\"],[0.7777777777777778,\"#fb9f3a\"],[0.8888888888888888,\"#fdca26\"],[1.0,\"#f0f921\"]]},\"legend\":{\"tracegroupgap\":0},\"title\":{\"text\":\"KMeans Clustering with 4 Clusters (3D)\"}},                        {\"responsive\": true}                    ).then(function(){\n",
       "                            \n",
       "var gd = document.getElementById('93df2e3e-ad59-46e1-a52f-4915f6f6ddff');\n",
       "var x = new MutationObserver(function (mutations, observer) {{\n",
       "        var display = window.getComputedStyle(gd).display;\n",
       "        if (!display || display === 'none') {{\n",
       "            console.log([gd, 'removed!']);\n",
       "            Plotly.purge(gd);\n",
       "            observer.disconnect();\n",
       "        }}\n",
       "}});\n",
       "\n",
       "// Listen for the removal of the full notebook cells\n",
       "var notebookContainer = gd.closest('#notebook-container');\n",
       "if (notebookContainer) {{\n",
       "    x.observe(notebookContainer, {childList: true});\n",
       "}}\n",
       "\n",
       "// Listen for the clearing of the current output cell\n",
       "var outputEl = gd.closest('.output');\n",
       "if (outputEl) {{\n",
       "    x.observe(outputEl, {childList: true});\n",
       "}}\n",
       "\n",
       "                        })                };                });            </script>        </div>"
      ]
     },
     "metadata": {},
     "output_type": "display_data"
    }
   ],
   "source": [
    "# Apply KMeans with 4 clusters and plotting Clusters Using PCA\n",
    "Clustering = KMeans(n_clusters=4, random_state=2).fit(df_scaled)\n",
    "labels = Clustering.labels_\n",
    "df['Cluster'] = labels\n",
    "df_encoded['Cluster'] = labels\n",
    "\n",
    "# Perform PCA for 2D visualization\n",
    "pca = PCA(n_components=2)\n",
    "pca_df = pca.fit_transform(df_scaled)\n",
    "\n",
    "# Transform the cluster centers using the same PCA transformation\n",
    "centers = pca.transform(Clustering.cluster_centers_)\n",
    "\n",
    "# 2D Scatter Plot using Seaborn\n",
    "plt.figure(figsize=(10, 6))\n",
    "sns.scatterplot( x=pca_df[:, 0], y=pca_df[:, 1], hue=labels, palette=\"Set1\", legend='full',alpha=0.9)\n",
    "plt.scatter(centers[:, 0], centers[:, 1], c='#A613F5', s=100, marker='*', label='Centroids')\n",
    "plt.title(\"KMeans Clustering with 4 Clusters (2D)\", size=15)\n",
    "plt.xlabel(\"PCA Component 1\")\n",
    "plt.ylabel(\"PCA Component 2\")\n",
    "plt.legend()\n",
    "plt.grid(True)\n",
    "plt.show()\n",
    "\n",
    "# Perform PCA for 3 components for 3D plotting\n",
    "pca_3d = PCA(n_components=3)\n",
    "pca_df_3d = pca_3d.fit_transform(df_scaled)\n",
    "centers_3d = pca_3d.transform(Clustering.cluster_centers_)\n",
    "\n",
    "fig = px.scatter_3d(x=pca_df_3d[:, 0],y=pca_df_3d[:, 1],z=pca_df_3d[:, 2],color=labels,title=\"KMeans Clustering with 4 Clusters (3D)\",\n",
    "    labels={'x': 'PCA Component 1', 'y': 'PCA Component 2', 'z': 'PCA Component 3'})\n",
    "\n",
    "# Add cluster centroids to the 3D plot\n",
    "fig.add_scatter3d(\n",
    "    x=centers_3d[:, 0],\n",
    "    y=centers_3d[:, 1],\n",
    "    z=centers_3d[:, 2],\n",
    "    mode='markers',\n",
    "    marker=dict(size=5, color='red', symbol='x'),\n",
    "    name='Centroids'\n",
    ")\n",
    "\n",
    "fig.show()"
   ]
  },
  {
   "cell_type": "markdown",
   "id": "b1ed3f2a",
   "metadata": {},
   "source": [
    "Profiling Segmentation"
   ]
  },
  {
   "cell_type": "code",
   "execution_count": 38,
   "id": "05380fdf",
   "metadata": {},
   "outputs": [],
   "source": [
    "data_pivot = df_encoded.groupby('Cluster').mean().T\n",
    "data_pivot_mean = data_pivot.mean(axis=1).reset_index()\n",
    "data_pivot_mean.columns = ['Variable', 'Value']"
   ]
  },
  {
   "cell_type": "code",
   "execution_count": 41,
   "id": "9b68c9fc",
   "metadata": {
    "scrolled": false
   },
   "outputs": [
    {
     "data": {
      "image/png": "[encoded data removed]",
      "text/plain": [
       "<Figure size 1200x900 with 4 Axes>"
      ]
     },
     "metadata": {},
     "output_type": "display_data"
    }
   ],
   "source": [
    "import matplotlib.pyplot as plt\n",
    "import seaborn as sns\n",
    "\n",
    "plt.figure(figsize=(12, 9))\n",
    "\n",
    "for i in range(4):\n",
    "    plt.subplot(2, 2, i + 1)\n",
    "    \n",
    "    # Ensure data_pivot has the correct structure\n",
    "    column_name = data_pivot.columns[i]  # Fix indexing issue\n",
    "    sns.barplot(data=data_pivot, x=column_name, y=data_pivot.index, palette='viridis')\n",
    "    \n",
    "    # Scatter plot with corrected syntax\n",
    "    sns.scatterplot(data=data_pivot_mean, x='Value', y='Variable', color='green', zorder=3)\n",
    "    \n",
    "    # Adding horizontal lines\n",
    "    for _, row in data_pivot_mean.iterrows():\n",
    "        plt.hlines(y=row['Variable'], xmin=0, xmax=row['Value'], colors='black', alpha=0.8, linewidth=1)\n",
    "    \n",
    "    # Fixing cluster count issue\n",
    "    cluster_size = df_encoded['Cluster'].value_counts().get(i, 0)  # Prevents key error\n",
    "    plt.title(f\"Cluster {i}: {cluster_size} ({cluster_size * 100 / len(df_encoded):.0f}%)\")\n",
    "    \n",
    "    plt.ylabel(\"\")\n",
    "    plt.xlabel(\"\")\n",
    "\n",
    "plt.suptitle(\"Segment profile plot for the four-segment solution\", fontsize=15)\n",
    "plt.tight_layout()\n",
    "plt.show()\n"
   ]
  },
  {
   "cell_type": "markdown",
   "id": "d7b50d7c",
   "metadata": {},
   "source": [
    "Describing Segmentation"
   ]
  },
  {
   "cell_type": "code",
   "execution_count": 53,
   "id": "8f763f78",
   "metadata": {},
   "outputs": [
    {
     "data": {
      "text/html": [
       "<div>\n",
       "<style scoped>\n",
       "    .dataframe tbody tr th:only-of-type {\n",
       "        vertical-align: middle;\n",
       "    }\n",
       "\n",
       "    .dataframe tbody tr th {\n",
       "        vertical-align: top;\n",
       "    }\n",
       "\n",
       "    .dataframe thead th {\n",
       "        text-align: right;\n",
       "    }\n",
       "</style>\n",
       "<table border=\"1\" class=\"dataframe\">\n",
       "  <thead>\n",
       "    <tr style=\"text-align: right;\">\n",
       "      <th></th>\n",
       "      <th>Age</th>\n",
       "      <th>No of Dependents</th>\n",
       "      <th>Salary</th>\n",
       "      <th>Wife Salary</th>\n",
       "      <th>Total Salary</th>\n",
       "      <th>Price</th>\n",
       "      <th>Size</th>\n",
       "      <th>Profession</th>\n",
       "      <th>Marrital Status</th>\n",
       "      <th>Education</th>\n",
       "      <th>Personal loan</th>\n",
       "      <th>House Loan</th>\n",
       "      <th>Wife Working</th>\n",
       "      <th>Make</th>\n",
       "    </tr>\n",
       "    <tr>\n",
       "      <th>Cluster</th>\n",
       "      <th></th>\n",
       "      <th></th>\n",
       "      <th></th>\n",
       "      <th></th>\n",
       "      <th></th>\n",
       "      <th></th>\n",
       "      <th></th>\n",
       "      <th></th>\n",
       "      <th></th>\n",
       "      <th></th>\n",
       "      <th></th>\n",
       "      <th></th>\n",
       "      <th></th>\n",
       "      <th></th>\n",
       "    </tr>\n",
       "  </thead>\n",
       "  <tbody>\n",
       "    <tr>\n",
       "      <th>0</th>\n",
       "      <td>41.0</td>\n",
       "      <td>3.0</td>\n",
       "      <td>2200000.0</td>\n",
       "      <td>1200000.0</td>\n",
       "      <td>3100000.0</td>\n",
       "      <td>1500000.0</td>\n",
       "      <td>34</td>\n",
       "      <td>Salaried</td>\n",
       "      <td>Married</td>\n",
       "      <td>Post Graduate</td>\n",
       "      <td>No</td>\n",
       "      <td>No</td>\n",
       "      <td>Yes</td>\n",
       "      <td>SUV</td>\n",
       "    </tr>\n",
       "    <tr>\n",
       "      <th>1</th>\n",
       "      <td>29.0</td>\n",
       "      <td>0.0</td>\n",
       "      <td>1100000.0</td>\n",
       "      <td>0.0</td>\n",
       "      <td>1300000.0</td>\n",
       "      <td>1100000.0</td>\n",
       "      <td>15</td>\n",
       "      <td>Salaried</td>\n",
       "      <td>Single</td>\n",
       "      <td>Post Graduate</td>\n",
       "      <td>No</td>\n",
       "      <td>No</td>\n",
       "      <td>No</td>\n",
       "      <td>Baleno</td>\n",
       "    </tr>\n",
       "    <tr>\n",
       "      <th>2</th>\n",
       "      <td>34.0</td>\n",
       "      <td>2.0</td>\n",
       "      <td>1500000.0</td>\n",
       "      <td>0.0</td>\n",
       "      <td>1800000.0</td>\n",
       "      <td>800000.0</td>\n",
       "      <td>22</td>\n",
       "      <td>Salaried</td>\n",
       "      <td>Married</td>\n",
       "      <td>Post Graduate</td>\n",
       "      <td>No</td>\n",
       "      <td>No</td>\n",
       "      <td>No</td>\n",
       "      <td>i20</td>\n",
       "    </tr>\n",
       "    <tr>\n",
       "      <th>3</th>\n",
       "      <td>36.5</td>\n",
       "      <td>3.0</td>\n",
       "      <td>1500000.0</td>\n",
       "      <td>0.0</td>\n",
       "      <td>1900000.0</td>\n",
       "      <td>1050000.0</td>\n",
       "      <td>28</td>\n",
       "      <td>Salaried</td>\n",
       "      <td>Married</td>\n",
       "      <td>Graduate</td>\n",
       "      <td>No</td>\n",
       "      <td>Yes</td>\n",
       "      <td>No</td>\n",
       "      <td>Baleno</td>\n",
       "    </tr>\n",
       "  </tbody>\n",
       "</table>\n",
       "</div>"
      ],
      "text/plain": [
       "          Age  No of Dependents     Salary  Wife Salary  Total Salary  \\\n",
       "Cluster                                                                 \n",
       "0        41.0               3.0  2200000.0    1200000.0     3100000.0   \n",
       "1        29.0               0.0  1100000.0          0.0     1300000.0   \n",
       "2        34.0               2.0  1500000.0          0.0     1800000.0   \n",
       "3        36.5               3.0  1500000.0          0.0     1900000.0   \n",
       "\n",
       "             Price  Size Profession Marrital Status      Education  \\\n",
       "Cluster                                                              \n",
       "0        1500000.0    34   Salaried         Married  Post Graduate   \n",
       "1        1100000.0    15   Salaried          Single  Post Graduate   \n",
       "2         800000.0    22   Salaried         Married  Post Graduate   \n",
       "3        1050000.0    28   Salaried         Married       Graduate   \n",
       "\n",
       "        Personal loan House Loan Wife Working    Make  \n",
       "Cluster                                                \n",
       "0                  No         No          Yes     SUV  \n",
       "1                  No         No           No  Baleno  \n",
       "2                  No         No           No     i20  \n",
       "3                  No        Yes           No  Baleno  "
      ]
     },
     "execution_count": 53,
     "metadata": {},
     "output_type": "execute_result"
    }
   ],
   "source": [
    "# Separate numerical and categorical columns\n",
    "numerical_columns = ['Age', 'No of Dependents', 'Salary', 'Wife Salary', 'Total Salary', 'Price']\n",
    "categorical_columns = ['Profession', 'Marrital Status', 'Education', 'Personal loan', 'House Loan', 'Wife Working', 'Make']\n",
    "\n",
    "# Profiling numerical features\n",
    "numerical_profile = df.groupby('Cluster')[numerical_columns].median()\n",
    "numerical_profile['Size'] = df['Cluster'].value_counts()\n",
    "\n",
    "# Profiling categorical features\n",
    "categorical_profile = pd.DataFrame()\n",
    "for col in categorical_columns:\n",
    "    mode_series = df.groupby('Cluster')[col].agg(lambda x: x.mode()[0])\n",
    "    categorical_profile[col] = mode_series\n",
    "\n",
    "# Combine numerical and categorical profiles\n",
    "segment_profile = pd.concat([numerical_profile, categorical_profile], axis=1)\n",
    "segment_profile"
   ]
  },
  {
   "cell_type": "code",
   "execution_count": null,
   "id": "df752050",
   "metadata": {},
   "outputs": [],
   "source": []
  }
 ],
 "metadata": {
  "kernelspec": {
   "display_name": "Python 3 (ipykernel)",
   "language": "python",
   "name": "python3"
  },
  "language_info": {
   "codemirror_mode": {
    "name": "ipython",
    "version": 3
   },
   "file_extension": ".py",
   "mimetype": "text/x-python",
   "name": "python",
   "nbconvert_exporter": "python",
   "pygments_lexer": "ipython3",
   "version": "3.9.13"
  }
 },
 "nbformat": 4,
 "nbformat_minor": 5
}
